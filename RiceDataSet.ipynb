{
  "nbformat": 4,
  "nbformat_minor": 0,
  "metadata": {
    "colab": {
      "provenance": [],
      "authorship_tag": "ABX9TyM2D7hReMdodB/qKiuJVqN/",
      "include_colab_link": true
    },
    "kernelspec": {
      "name": "python3",
      "display_name": "Python 3"
    },
    "language_info": {
      "name": "python"
    }
  },
  "cells": [
    {
      "cell_type": "markdown",
      "metadata": {
        "id": "view-in-github",
        "colab_type": "text"
      },
      "source": [
        "<a href=\"https://colab.research.google.com/github/ThangarajVMani/RiceDataSet/blob/main/RiceDataSet.ipynb\" target=\"_parent\"><img src=\"https://colab.research.google.com/assets/colab-badge.svg\" alt=\"Open In Colab\"/></a>"
      ]
    },
    {
      "cell_type": "code",
      "execution_count": 1,
      "metadata": {
        "colab": {
          "base_uri": "https://localhost:8080/"
        },
        "id": "WkzGDg471X1t",
        "outputId": "d026fa91-8602-4221-b707-75567d4fd8bc"
      },
      "outputs": [
        {
          "output_type": "stream",
          "name": "stdout",
          "text": [
            "Collecting ucimlrepo\n",
            "  Downloading ucimlrepo-0.0.7-py3-none-any.whl (8.0 kB)\n",
            "Requirement already satisfied: pandas>=1.0.0 in /usr/local/lib/python3.10/dist-packages (from ucimlrepo) (2.0.3)\n",
            "Requirement already satisfied: certifi>=2020.12.5 in /usr/local/lib/python3.10/dist-packages (from ucimlrepo) (2024.6.2)\n",
            "Requirement already satisfied: python-dateutil>=2.8.2 in /usr/local/lib/python3.10/dist-packages (from pandas>=1.0.0->ucimlrepo) (2.8.2)\n",
            "Requirement already satisfied: pytz>=2020.1 in /usr/local/lib/python3.10/dist-packages (from pandas>=1.0.0->ucimlrepo) (2023.4)\n",
            "Requirement already satisfied: tzdata>=2022.1 in /usr/local/lib/python3.10/dist-packages (from pandas>=1.0.0->ucimlrepo) (2024.1)\n",
            "Requirement already satisfied: numpy>=1.21.0 in /usr/local/lib/python3.10/dist-packages (from pandas>=1.0.0->ucimlrepo) (1.25.2)\n",
            "Requirement already satisfied: six>=1.5 in /usr/local/lib/python3.10/dist-packages (from python-dateutil>=2.8.2->pandas>=1.0.0->ucimlrepo) (1.16.0)\n",
            "Installing collected packages: ucimlrepo\n",
            "Successfully installed ucimlrepo-0.0.7\n"
          ]
        }
      ],
      "source": [
        "pip install ucimlrepo"
      ]
    },
    {
      "cell_type": "code",
      "source": [
        "from ucimlrepo import fetch_ucirepo, list_available_datasets"
      ],
      "metadata": {
        "id": "wsSh5F5_2Btc"
      },
      "execution_count": 3,
      "outputs": []
    },
    {
      "cell_type": "code",
      "source": [
        "# check which datasets can be imported\n",
        "list_available_datasets()"
      ],
      "metadata": {
        "colab": {
          "base_uri": "https://localhost:8080/"
        },
        "id": "AKDqFaNE3svG",
        "outputId": "07399c0f-2340-42de-ebdc-daed81ff0b45"
      },
      "execution_count": 4,
      "outputs": [
        {
          "output_type": "stream",
          "name": "stdout",
          "text": [
            "-------------------------------------\n",
            "The following datasets are available:\n",
            "-------------------------------------\n",
            "Dataset Name                                                                            ID    \n",
            "------------                                                                            --    \n",
            "Abalone                                                                                 1     \n",
            "Adult                                                                                   2     \n",
            "Annealing                                                                               3     \n",
            "Audiology (Standardized)                                                                8     \n",
            "Auto MPG                                                                                9     \n",
            "Automobile                                                                              10    \n",
            "Balance Scale                                                                           12    \n",
            "Balloons                                                                                13    \n",
            "Breast Cancer                                                                           14    \n",
            "Breast Cancer Wisconsin (Original)                                                      15    \n",
            "Breast Cancer Wisconsin (Prognostic)                                                    16    \n",
            "Breast Cancer Wisconsin (Diagnostic)                                                    17    \n",
            "Pittsburgh Bridges                                                                      18    \n",
            "Car Evaluation                                                                          19    \n",
            "Census Income                                                                           20    \n",
            "Chess (King-Rook vs. King-Pawn)                                                         22    \n",
            "Chess (King-Rook vs. King)                                                              23    \n",
            "Connect-4                                                                               26    \n",
            "Credit Approval                                                                         27    \n",
            "Japanese Credit Screening                                                               28    \n",
            "Computer Hardware                                                                       29    \n",
            "Contraceptive Method Choice                                                             30    \n",
            "Covertype                                                                               31    \n",
            "Cylinder Bands                                                                          32    \n",
            "Dermatology                                                                             33    \n",
            "Echocardiogram                                                                          38    \n",
            "Ecoli                                                                                   39    \n",
            "Flags                                                                                   40    \n",
            "Glass Identification                                                                    42    \n",
            "Haberman's Survival                                                                     43    \n",
            "Hayes-Roth                                                                              44    \n",
            "Heart Disease                                                                           45    \n",
            "Hepatitis                                                                               46    \n",
            "Horse Colic                                                                             47    \n",
            "Image Segmentation                                                                      50    \n",
            "Ionosphere                                                                              52    \n",
            "Iris                                                                                    53    \n",
            "ISOLET                                                                                  54    \n",
            "Lenses                                                                                  58    \n",
            "Letter Recognition                                                                      59    \n",
            "Liver Disorders                                                                         60    \n",
            "Lung Cancer                                                                             62    \n",
            "Lymphography                                                                            63    \n",
            "Molecular Biology (Splice-junction Gene Sequences)                                      69    \n",
            "MONK's Problems                                                                         70    \n",
            "Mushroom                                                                                73    \n",
            "Musk (Version 1)                                                                        74    \n",
            "Musk (Version 2)                                                                        75    \n",
            "Nursery                                                                                 76    \n",
            "Page Blocks Classification                                                              78    \n",
            "Optical Recognition of Handwritten Digits                                               80    \n",
            "Pen-Based Recognition of Handwritten Digits                                             81    \n",
            "Post-Operative Patient                                                                  82    \n",
            "Primary Tumor                                                                           83    \n",
            "Servo                                                                                   87    \n",
            "Shuttle Landing Control                                                                 88    \n",
            "Solar Flare                                                                             89    \n",
            "Soybean (Large)                                                                         90    \n",
            "Soybean (Small)                                                                         91    \n",
            "Challenger USA Space Shuttle O-Ring                                                     92    \n",
            "Spambase                                                                                94    \n",
            "SPECT Heart                                                                             95    \n",
            "SPECTF Heart                                                                            96    \n",
            "Tic-Tac-Toe Endgame                                                                     101   \n",
            "Congressional Voting Records                                                            105   \n",
            "Waveform Database Generator (Version 1)                                                 107   \n",
            "Wine                                                                                    109   \n",
            "Yeast                                                                                   110   \n",
            "Zoo                                                                                     111   \n",
            "US Census Data (1990)                                                                   116   \n",
            "Census-Income (KDD)                                                                     117   \n",
            "El Nino                                                                                 122   \n",
            "Statlog (Australian Credit Approval)                                                    143   \n",
            "Statlog (German Credit Data)                                                            144   \n",
            "Statlog (Heart)                                                                         145   \n",
            "Statlog (Landsat Satellite)                                                             146   \n",
            "Statlog (Image Segmentation)                                                            147   \n",
            "Statlog (Shuttle)                                                                       148   \n",
            "Statlog (Vehicle Silhouettes)                                                           149   \n",
            "Connectionist Bench (Sonar, Mines vs. Rocks)                                            151   \n",
            "Cloud                                                                                   155   \n",
            "Poker Hand                                                                              158   \n",
            "MAGIC Gamma Telescope                                                                   159   \n",
            "Mammographic Mass                                                                       161   \n",
            "Forest Fires                                                                            162   \n",
            "Concrete Compressive Strength                                                           165   \n",
            "Ozone Level Detection                                                                   172   \n",
            "Parkinsons                                                                              174   \n",
            "Blood Transfusion Service Center                                                        176   \n",
            "Communities and Crime                                                                   183   \n",
            "Acute Inflammations                                                                     184   \n",
            "Wine Quality                                                                            186   \n",
            "Parkinsons Telemonitoring                                                               189   \n",
            "Cardiotocography                                                                        193   \n",
            "Steel Plates Faults                                                                     198   \n",
            "Communities and Crime Unnormalized                                                      211   \n",
            "Vertebral Column                                                                        212   \n",
            "Bank Marketing                                                                          222   \n",
            "ILPD (Indian Liver Patient Dataset)                                                     225   \n",
            "Skin Segmentation                                                                       229   \n",
            "Individual Household Electric Power Consumption                                         235   \n",
            "Energy Efficiency                                                                       242   \n",
            "Fertility                                                                               244   \n",
            "ISTANBUL STOCK EXCHANGE                                                                 247   \n",
            "User Knowledge Modeling                                                                 257   \n",
            "EEG Eye State                                                                           264   \n",
            "Banknote Authentication                                                                 267   \n",
            "Gas Sensor Array Drift at Different Concentrations                                      270   \n",
            "Bike Sharing                                                                            275   \n",
            "Thoracic Surgery Data                                                                   277   \n",
            "Airfoil Self-Noise                                                                      291   \n",
            "Wholesale customers                                                                     292   \n",
            "Combined Cycle Power Plant                                                              294   \n",
            "Diabetes 130-US Hospitals for Years 1999-2008                                           296   \n",
            "Tennis Major Tournament Match Statistics                                                300   \n",
            "Dow Jones Index                                                                         312   \n",
            "Student Performance                                                                     320   \n",
            "Phishing Websites                                                                       327   \n",
            "Diabetic Retinopathy Debrecen                                                           329   \n",
            "Online News Popularity                                                                  332   \n",
            "Chronic Kidney Disease                                                                  336   \n",
            "Mice Protein Expression                                                                 342   \n",
            "Default of Credit Card Clients                                                          350   \n",
            "Online Retail                                                                           352   \n",
            "Occupancy Detection                                                                     357   \n",
            "Air Quality                                                                             360   \n",
            "Polish Companies Bankruptcy                                                             365   \n",
            "Dota2 Games Results                                                                     367   \n",
            "Facebook Metrics                                                                        368   \n",
            "HTRU2                                                                                   372   \n",
            "Drug Consumption (Quantified)                                                           373   \n",
            "Appliances Energy Prediction                                                            374   \n",
            "Website Phishing                                                                        379   \n",
            "YouTube Spam Collection                                                                 380   \n",
            "Beijing PM2.5                                                                           381   \n",
            "Cervical Cancer (Risk Factors)                                                          383   \n",
            "Stock Portfolio Performance                                                             390   \n",
            "Sales Transactions Weekly                                                               396   \n",
            "Daily Demand Forecasting Orders                                                         409   \n",
            "Autistic Spectrum Disorder Screening Data for Children                                  419   \n",
            "Autism Screening Adult                                                                  426   \n",
            "Absenteeism at work                                                                     445   \n",
            "Breast Cancer Coimbra                                                                   451   \n",
            "Drug Reviews (Druglib.com)                                                              461   \n",
            "Drug Reviews (Drugs.com)                                                                462   \n",
            "Superconductivty Data                                                                   464   \n",
            "Student Academics Performance                                                           467   \n",
            "Online Shoppers Purchasing Intention Dataset                                            468   \n",
            "Electrical Grid Stability Simulated Data                                                471   \n",
            "Real Estate Valuation                                                                   477   \n",
            "Travel Reviews                                                                          484   \n",
            "Travel Review Ratings                                                                   485   \n",
            "Facebook Live Sellers in Thailand                                                       488   \n",
            "Metro Interstate Traffic Volume                                                         492   \n",
            "Hepatitis C Virus (HCV) for Egyptian patients                                           503   \n",
            "Heart Failure Clinical Records                                                          519   \n",
            "Early Stage Diabetes Risk Prediction                                                    529   \n",
            "Pedestrians in Traffic                                                                  536   \n",
            "Cervical Cancer Behavior Risk                                                           537   \n",
            "Estimation of Obesity Levels Based On Eating Habits and Physical Condition              544   \n",
            "Rice (Cammeo and Osmancik)                                                              545   \n",
            "Algerian Forest Fires                                                                   547   \n",
            "Gas Turbine CO and NOx Emission Data Set                                                551   \n",
            "Apartment for Rent Classified                                                           555   \n",
            "Seoul Bike Sharing Demand                                                               560   \n",
            "Iranian Churn                                                                           563   \n",
            "Bone marrow transplant: children                                                        565   \n",
            "COVID-19 Surveillance                                                                   567   \n",
            "HCV data                                                                                571   \n",
            "Taiwanese Bankruptcy Prediction                                                         572   \n",
            "Myocardial infarction complications                                                     579   \n",
            "Student Performance on an Entrance Examination                                          582   \n",
            "Gender by Name                                                                          591   \n",
            "Productivity Prediction of Garment Employees                                            597   \n",
            "AI4I 2020 Predictive Maintenance Dataset                                                601   \n",
            "Dry Bean                                                                                602   \n",
            "In-Vehicle Coupon Recommendation                                                        603   \n",
            "Predict Students' Dropout and Academic Success                                          697   \n",
            "Auction Verification                                                                    713   \n",
            "NATICUSdroid (Android Permissions)                                                      722   \n",
            "Toxicity                                                                                728   \n",
            "DARWIN                                                                                  732   \n",
            "Accelerometer Gyro Mobile Phone                                                         755   \n",
            "Glioma Grading Clinical and Mutation Features                                           759   \n",
            "Multivariate Gait Data                                                                  760   \n",
            "Land Mines                                                                              763   \n",
            "Single Elder Home Monitoring: Gas and Position                                          799   \n",
            "Sepsis Survival Minimal Clinical Records                                                827   \n",
            "Secondary Mushroom                                                                      848   \n",
            "Power Consumption of Tetouan City                                                       849   \n",
            "Raisin                                                                                  850   \n",
            "Steel Industry Energy Consumption                                                       851   \n",
            "Higher Education Students Performance Evaluation                                        856   \n",
            "Risk Factor Prediction of Chronic Kidney Disease                                        857   \n",
            "Maternal Health Risk                                                                    863   \n",
            "Room Occupancy Estimation                                                               864   \n",
            "Cirrhosis Patient Survival Prediction                                                   878   \n",
            "SUPPORT2                                                                                880   \n",
            "National Health and Nutrition Health Survey 2013-2014 (NHANES) Age Prediction Subset    887   \n",
            "AIDS Clinical Trials Group Study 175                                                    890   \n",
            "CDC Diabetes Health Indicators                                                          891   \n",
            "Recipe Reviews and User Feedback                                                        911   \n",
            "Forty Soybean Cultivars from Subsequent Harvests                                        913   \n",
            "Differentiated Thyroid Cancer Recurrence                                                915   \n",
            "Infrared Thermography Temperature                                                       925   \n",
            "National Poll on Healthy Aging (NPHA)                                                   936   \n",
            "Regensburg Pediatric Appendicitis                                                       938   \n",
            "RT-IoT2022                                                                              942   \n",
            "PhiUSIIL Phishing URL (Website)                                                         967   \n",
            "\n"
          ]
        }
      ]
    },
    {
      "cell_type": "code",
      "source": [
        "# fetch dataset\n",
        "rice_cammeo_and_osmancik = fetch_ucirepo(id=545)"
      ],
      "metadata": {
        "id": "39aYddu94TsE"
      },
      "execution_count": 5,
      "outputs": []
    },
    {
      "cell_type": "code",
      "source": [
        "# data (as pandas dataframes)\n",
        "X = rice_cammeo_and_osmancik.data.features\n",
        "y = rice_cammeo_and_osmancik.data.targets"
      ],
      "metadata": {
        "id": "as5bf3je4c0E"
      },
      "execution_count": 6,
      "outputs": []
    },
    {
      "cell_type": "code",
      "source": [
        "# metadata\n",
        "print(rice_cammeo_and_osmancik.metadata)"
      ],
      "metadata": {
        "colab": {
          "base_uri": "https://localhost:8080/"
        },
        "id": "LoYG8bvY4dmO",
        "outputId": "dc6f210c-db96-4dde-85d6-48eb3d421853"
      },
      "execution_count": 7,
      "outputs": [
        {
          "output_type": "stream",
          "name": "stdout",
          "text": [
            "{'uci_id': 545, 'name': 'Rice (Cammeo and Osmancik)', 'repository_url': 'https://archive.ics.uci.edu/dataset/545/rice+cammeo+and+osmancik', 'data_url': 'https://archive.ics.uci.edu/static/public/545/data.csv', 'abstract': \"A total of 3810 rice grain's images were taken for the two species, processed and feature inferences were made. 7 morphological features were obtained for each grain of rice.\", 'area': 'Biology', 'tasks': ['Classification'], 'characteristics': ['Multivariate'], 'num_instances': 3810, 'num_features': 7, 'feature_types': ['Real'], 'demographics': [], 'target_col': ['Class'], 'index_col': None, 'has_missing_values': 'no', 'missing_values_symbol': None, 'year_of_dataset_creation': 2019, 'last_updated': 'Fri Nov 03 2023', 'dataset_doi': '10.24432/C5MW4Z', 'creators': [], 'intro_paper': {'title': 'Classification of Rice Varieties Using Artificial Intelligence Methods', 'authors': 'Ilkay Cinar, M. Koklu', 'published_in': 'International Journal of Intelligent Systems and Applications in Engineering', 'year': 2019, 'url': 'https://www.semanticscholar.org/paper/4e508bb906c8fdc04ead6f20bd8918fcb3605d1c', 'doi': '10.18201/ijisae.2019355381'}, 'additional_info': {'summary': \"Among  the certified rice grown in TURKEY,  the  Osmancik species, which has a large planting area since 1997 and the Cammeo species grown since 2014 have been selected for the study.  When  looking  at  the  general  characteristics  of  Osmancik species, they have a wide, long, glassy and dull appearance.  When looking at the general characteristics of the Cammeo species, they have wide and long, glassy and dull in appearance.  A total of 3810 rice grain's images were taken for the two species, processed and feature inferences were made. 7 morphological features were obtained for each grain of rice. \", 'purpose': None, 'funded_by': None, 'instances_represent': None, 'recommended_data_splits': None, 'sensitive_data': None, 'preprocessing_description': None, 'variable_info': '1.) Area: Returns  the  number  of  pixels  within  the boundaries of the rice grain.\\r\\n2.) Perimeter: Calculates the circumference by calculating  the  distance  between  pixels around the boundaries of the rice grain.\\r\\n3.) Major Axis Length: The longest line that can be drawn on the rice  grain,  i.e.  the  main  axis  distance, gives.\\r\\n4.) Minor Axis Length: The shortest line that can be drawn on the rice  grain,  i.e.  the  small  axis  distance, gives.\\r\\n5.) Eccentricity: It measures how round the ellipse, which has  the  same  moments  as  the  rice  grain, is.\\r\\n6.) Convex Area: Returns  the  pixel  count  of  the  smallest convex shell of the region formed by the rice grain.\\r\\n7.) Extent: Returns the ratio of the regionformed by the rice grain to the bounding box pixels.\\r\\n8.) Class: Cammeo and Osmancik rices', 'citation': None}}\n"
          ]
        }
      ]
    },
    {
      "cell_type": "code",
      "source": [
        "# variable information\n",
        "print(rice_cammeo_and_osmancik.variables)"
      ],
      "metadata": {
        "colab": {
          "base_uri": "https://localhost:8080/"
        },
        "id": "H4RdRGub4tQ5",
        "outputId": "802aca2b-9684-443c-e33b-4c33b38675ae"
      },
      "execution_count": 8,
      "outputs": [
        {
          "output_type": "stream",
          "name": "stdout",
          "text": [
            "                name     role        type demographic  \\\n",
            "0               Area  Feature     Integer        None   \n",
            "1          Perimeter  Feature  Continuous        None   \n",
            "2  Major_Axis_Length  Feature  Continuous        None   \n",
            "3  Minor_Axis_Length  Feature  Continuous        None   \n",
            "4       Eccentricity  Feature  Continuous        None   \n",
            "5        Convex_Area  Feature     Integer        None   \n",
            "6             Extent  Feature  Continuous        None   \n",
            "7              Class   Target      Binary        None   \n",
            "\n",
            "                                         description units missing_values  \n",
            "0  Returns the number of pixels within the bounda...    px             no  \n",
            "1  Calculates the circumference by calculating th...    px             no  \n",
            "2  The longest line that can be drawn on the rice...  None             no  \n",
            "3  The shortest line that can be drawn on the ric...  None             no  \n",
            "4  It measures how round the ellipse, which has t...  None             no  \n",
            "5  Returns the pixel count of the smallest convex...  None             no  \n",
            "6  Returns the ratio of the region formed by the ...  None             no  \n",
            "7                                Cammeo and Osmancik  None             no  \n"
          ]
        }
      ]
    }
  ]
}